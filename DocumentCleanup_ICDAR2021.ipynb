{
 "cells": [
  {
   "cell_type": "markdown",
   "metadata": {},
   "source": [
    "# Light-weight Document Image Cleanup using Perceptual Loss\n",
    "## Abstract\n",
    "Smartphones have enabled effortless capturing and sharing of documents in digital form. The documents, however, often undergo various types of degradation due to aging, stains, or shortcoming of capturing environment such as shadow, non-uniform lighting, etc., which reduces the comprehensibility of the document images. In this work, we consider the problem of document image cleanup on embedded applications such as smartphone apps, which usually have memory, energy, and latency limitations due to the device and/or for best human user experience. We propose a light-weight encoder decoder based convolutional neural network architecture for removing the noisy elements from document images. \n",
    "To compensate for generalization performance with a low network capacity, we incorporate the perceptual loss for knowledge transfer from pre-trained deep CNN network in our loss function. In terms of the number of parameters and product-sum operations, our models are 65-1030 and 3-27 times, respectively, smaller than existing state-of-the-art document enhancement models. Overall, the proposed models offer a favorable resource versus accuracy trade-off and we empirically illustrate the efficacy of our approach on several real-world benchmark datasets.\n",
    "\n",
    "\n",
    "### Cite\n",
    "https://link.springer.com/chapter/10.1007/978-3-030-86334-0_16\n",
    "\n",
    "@InProceedings{10.1007/978-3-030-86334-0_16,\n",
    "author=\"Dey, Soumyadeep\n",
    "and Jawanpuria, Pratik\",\n",
    "editor=\"Llad{\\'o}s, Josep\n",
    "and Lopresti, Daniel\n",
    "and Uchida, Seiichi\",\n",
    "title=\"Light-Weight Document Image Cleanup Using Perceptual Loss\",\n",
    "booktitle=\"Document Analysis and Recognition -- ICDAR 2021\",\n",
    "year=\"2021\",\n",
    "publisher=\"Springer International Publishing\",\n",
    "address=\"Cham\",\n",
    "pages=\"238--253\",\n",
    "isbn=\"978-3-030-86334-0\"\n",
    "}"
   ]
  },
  {
   "cell_type": "code",
   "execution_count": 9,
   "metadata": {},
   "outputs": [],
   "source": [
    "import tensorflow as tf\n",
    "import numpy as np\n",
    "import cv2\n",
    "import os\n",
    "import sys\n",
    "import ssl\n",
    "from matplotlib import pyplot as plt\n",
    "ssl._create_default_https_context = ssl._create_unverified_context"
   ]
  },
  {
   "cell_type": "markdown",
   "metadata": {},
   "source": [
    "# Train"
   ]
  },
  {
   "cell_type": "code",
   "execution_count": 10,
   "metadata": {},
   "outputs": [],
   "source": [
    "from train import train"
   ]
  },
  {
   "cell_type": "code",
   "execution_count": 11,
   "metadata": {},
   "outputs": [],
   "source": [
    "data_folder = 'sample_data'\n",
    "gt_folder = 'sample_gt_data'"
   ]
  },
  {
   "cell_type": "code",
   "execution_count": 14,
   "metadata": {},
   "outputs": [
    {
     "name": "stdout",
     "output_type": "stream",
     "text": [
      "512 512\n",
      "sample_data\n",
      "sample_gt_data\n",
      "sample_data\n",
      "Generating training blocks!!!\n",
      "/home/prashant/Desktop/denoising/Perceptual_Loss/dataset/sample_data\n",
      "/home/prashant/Desktop/denoising/Perceptual_Loss/dataset/sample_data\n",
      "['BS_IN_Good_0.jpg', 'BS_IN_Good_6.jpg', 'BS_IN_Good_3.jpg', 'BS_IN_Good_4.jpg']\n"
     ]
    },
    {
     "name": "stderr",
     "output_type": "stream",
     "text": [
      "  0%|          | 0/4 [00:00<?, ?it/s]"
     ]
    },
    {
     "name": "stdout",
     "output_type": "stream",
     "text": [
      "BS_IN_Good_0.jpg\n",
      "/home/prashant/Desktop/denoising/Perceptual_Loss/dataset/sample_gt_data/BS_IN_Good_0.jpg\n",
      "/home/prashant/Desktop/denoising/Perceptual_Loss/dataset/sample_data/BS_IN_Good_0.jpg\n",
      "(3301, 2550, 3) (3301, 2550, 3)\n"
     ]
    },
    {
     "name": "stderr",
     "output_type": "stream",
     "text": [
      " 25%|██▌       | 1/4 [00:08<00:24,  8.14s/it]"
     ]
    },
    {
     "name": "stdout",
     "output_type": "stream",
     "text": [
      "BS_IN_Good_6.jpg\n",
      "/home/prashant/Desktop/denoising/Perceptual_Loss/dataset/sample_gt_data/BS_IN_Good_6.jpg\n",
      "/home/prashant/Desktop/denoising/Perceptual_Loss/dataset/sample_data/BS_IN_Good_6.jpg\n",
      "(3301, 2550, 3) (3301, 2550, 3)\n"
     ]
    },
    {
     "name": "stderr",
     "output_type": "stream",
     "text": [
      " 50%|█████     | 2/4 [00:15<00:15,  7.67s/it]"
     ]
    },
    {
     "name": "stdout",
     "output_type": "stream",
     "text": [
      "BS_IN_Good_3.jpg\n",
      "/home/prashant/Desktop/denoising/Perceptual_Loss/dataset/sample_gt_data/BS_IN_Good_3.jpg\n",
      "/home/prashant/Desktop/denoising/Perceptual_Loss/dataset/sample_data/BS_IN_Good_3.jpg\n",
      "(7017, 4959, 3) (7017, 4959, 3)\n"
     ]
    },
    {
     "name": "stderr",
     "output_type": "stream",
     "text": [
      " 75%|███████▌  | 3/4 [00:44<00:17, 17.38s/it]"
     ]
    },
    {
     "name": "stdout",
     "output_type": "stream",
     "text": [
      "BS_IN_Good_4.jpg\n",
      "/home/prashant/Desktop/denoising/Perceptual_Loss/dataset/sample_gt_data/BS_IN_Good_4.jpg\n",
      "/home/prashant/Desktop/denoising/Perceptual_Loss/dataset/sample_data/BS_IN_Good_4.jpg\n",
      "(3509, 2480, 3) (3509, 2480, 3)\n"
     ]
    },
    {
     "name": "stderr",
     "output_type": "stream",
     "text": [
      "100%|██████████| 4/4 [00:50<00:00, 12.72s/it]\n"
     ]
    },
    {
     "name": "stdout",
     "output_type": "stream",
     "text": [
      "Total number of training blocks generated:  5088\n",
      "tf.Tensor(683781700.0, shape=(), dtype=float32)\n",
      "checkpoints/M32_color.json\n",
      "Epoch 1/5\n"
     ]
    },
    {
     "ename": "ValueError",
     "evalue": "Input 0 of layer \"IlluNet\" is incompatible with the layer: expected shape=(None, 512, 512, 3), found shape=(1, 256, 256, 3)",
     "output_type": "error",
     "traceback": [
      "\u001b[0;31m---------------------------------------------------------------------------\u001b[0m",
      "\u001b[0;31mValueError\u001b[0m                                Traceback (most recent call last)",
      "Cell \u001b[0;32mIn[14], line 1\u001b[0m\n\u001b[0;32m----> 1\u001b[0m train(data_folder,gt_folder,dataset_path\u001b[39m=\u001b[39;49m\u001b[39m'\u001b[39;49m\u001b[39m/home/prashant/Desktop/denoising/Perceptual_Loss/dataset\u001b[39;49m\u001b[39m'\u001b[39;49m,checkpoint\u001b[39m=\u001b[39;49m\u001b[39m'\u001b[39;49m\u001b[39mcheckpoints\u001b[39;49m\u001b[39m'\u001b[39;49m,epochs\u001b[39m=\u001b[39;49m\u001b[39m5\u001b[39;49m,pretrain_flag\u001b[39m=\u001b[39;49m\u001b[39mFalse\u001b[39;49;00m,pretrain_model_weight_path\u001b[39m=\u001b[39;49m\u001b[39mNone\u001b[39;49;00m,model_name\u001b[39m=\u001b[39;49m\u001b[39m'\u001b[39;49m\u001b[39mM32\u001b[39;49m\u001b[39m'\u001b[39;49m,gray_flag\u001b[39m=\u001b[39;49m\u001b[39mFalse\u001b[39;49;00m,block_size\u001b[39m=\u001b[39;49m(\u001b[39m512\u001b[39;49m,\u001b[39m512\u001b[39;49m),train_batch_size\u001b[39m=\u001b[39;49m\u001b[39m1\u001b[39;49m)\n\u001b[1;32m      2\u001b[0m \u001b[39m#model_name = name of the model (M16,M32,M64)\u001b[39;00m\n\u001b[1;32m      3\u001b[0m \u001b[39m#dataset_path==> path to the training dataset\u001b[39;00m\n\u001b[1;32m      4\u001b[0m \u001b[39m#checkpoint==> Path where saved models will be saved\u001b[39;00m\n\u001b[0;32m   (...)\u001b[0m\n\u001b[1;32m     12\u001b[0m \u001b[39m# model_name = 'M16'\u001b[39;00m\n\u001b[1;32m     13\u001b[0m \u001b[39m# train(data_folder,gt_folder,dataset_path='dataset',checkpoint='checkpoints',epochs=1,gray_flag=True,model_name=model_name,pretrain_flag=True,pretrain_model_weight_path='checkpoints/M16_dibco13_epoch-958.hdf5')\u001b[39;00m\n",
      "File \u001b[0;32m~/Desktop/denoising/Perceptual_Loss/DOC_CLEANUP/train.py:159\u001b[0m, in \u001b[0;36mtrain\u001b[0;34m(data_folder, gt_folder, dataset_path, checkpoint, epochs, pretrain_flag, pretrain_model_weight_path, model_name, gray_flag, block_size, train_batch_size)\u001b[0m\n\u001b[1;32m    155\u001b[0m model_checkpoint \u001b[39m=\u001b[39m tf\u001b[39m.\u001b[39mkeras\u001b[39m.\u001b[39mcallbacks\u001b[39m.\u001b[39mModelCheckpoint(full_model_weight_path, monitor\u001b[39m=\u001b[39m\u001b[39m'\u001b[39m\u001b[39mval_loss\u001b[39m\u001b[39m'\u001b[39m, verbose\u001b[39m=\u001b[39m\u001b[39m1\u001b[39m, save_best_only\u001b[39m=\u001b[39m\u001b[39mTrue\u001b[39;00m)\n\u001b[1;32m    157\u001b[0m callbacks_list \u001b[39m=\u001b[39m [tensorboard_callback, model_checkpoint]\n\u001b[0;32m--> 159\u001b[0m training_history \u001b[39m=\u001b[39m model\u001b[39m.\u001b[39;49mfit(my_training_batch_generator,epochs \u001b[39m=\u001b[39;49m epochs, verbose\u001b[39m=\u001b[39;49m\u001b[39m1\u001b[39;49m, workers \u001b[39m=\u001b[39;49m \u001b[39m21\u001b[39;49m, use_multiprocessing \u001b[39m=\u001b[39;49m \u001b[39mFalse\u001b[39;49;00m,validation_data \u001b[39m=\u001b[39;49m my_validation_batch_generator,callbacks\u001b[39m=\u001b[39;49mcallbacks_list)\n",
      "File \u001b[0;32m~/Desktop/denoising/denoising_env/lib/python3.10/site-packages/keras/src/utils/traceback_utils.py:70\u001b[0m, in \u001b[0;36mfilter_traceback.<locals>.error_handler\u001b[0;34m(*args, **kwargs)\u001b[0m\n\u001b[1;32m     67\u001b[0m     filtered_tb \u001b[39m=\u001b[39m _process_traceback_frames(e\u001b[39m.\u001b[39m__traceback__)\n\u001b[1;32m     68\u001b[0m     \u001b[39m# To get the full stack trace, call:\u001b[39;00m\n\u001b[1;32m     69\u001b[0m     \u001b[39m# `tf.debugging.disable_traceback_filtering()`\u001b[39;00m\n\u001b[0;32m---> 70\u001b[0m     \u001b[39mraise\u001b[39;00m e\u001b[39m.\u001b[39mwith_traceback(filtered_tb) \u001b[39mfrom\u001b[39;00m \u001b[39mNone\u001b[39;00m\n\u001b[1;32m     71\u001b[0m \u001b[39mfinally\u001b[39;00m:\n\u001b[1;32m     72\u001b[0m     \u001b[39mdel\u001b[39;00m filtered_tb\n",
      "File \u001b[0;32m~/Desktop/denoising/denoising_env/lib/python3.10/site-packages/keras/src/engine/input_spec.py:298\u001b[0m, in \u001b[0;36massert_input_compatibility\u001b[0;34m(input_spec, inputs, layer_name)\u001b[0m\n\u001b[1;32m    296\u001b[0m \u001b[39mif\u001b[39;00m spec_dim \u001b[39mis\u001b[39;00m \u001b[39mnot\u001b[39;00m \u001b[39mNone\u001b[39;00m \u001b[39mand\u001b[39;00m dim \u001b[39mis\u001b[39;00m \u001b[39mnot\u001b[39;00m \u001b[39mNone\u001b[39;00m:\n\u001b[1;32m    297\u001b[0m     \u001b[39mif\u001b[39;00m spec_dim \u001b[39m!=\u001b[39m dim:\n\u001b[0;32m--> 298\u001b[0m         \u001b[39mraise\u001b[39;00m \u001b[39mValueError\u001b[39;00m(\n\u001b[1;32m    299\u001b[0m             \u001b[39mf\u001b[39m\u001b[39m'\u001b[39m\u001b[39mInput \u001b[39m\u001b[39m{\u001b[39;00minput_index\u001b[39m}\u001b[39;00m\u001b[39m of layer \u001b[39m\u001b[39m\"\u001b[39m\u001b[39m{\u001b[39;00mlayer_name\u001b[39m}\u001b[39;00m\u001b[39m\"\u001b[39m\u001b[39m is \u001b[39m\u001b[39m'\u001b[39m\n\u001b[1;32m    300\u001b[0m             \u001b[39m\"\u001b[39m\u001b[39mincompatible with the layer: \u001b[39m\u001b[39m\"\u001b[39m\n\u001b[1;32m    301\u001b[0m             \u001b[39mf\u001b[39m\u001b[39m\"\u001b[39m\u001b[39mexpected shape=\u001b[39m\u001b[39m{\u001b[39;00mspec\u001b[39m.\u001b[39mshape\u001b[39m}\u001b[39;00m\u001b[39m, \u001b[39m\u001b[39m\"\u001b[39m\n\u001b[1;32m    302\u001b[0m             \u001b[39mf\u001b[39m\u001b[39m\"\u001b[39m\u001b[39mfound shape=\u001b[39m\u001b[39m{\u001b[39;00mdisplay_shape(x\u001b[39m.\u001b[39mshape)\u001b[39m}\u001b[39;00m\u001b[39m\"\u001b[39m\n\u001b[1;32m    303\u001b[0m         )\n",
      "\u001b[0;31mValueError\u001b[0m: Input 0 of layer \"IlluNet\" is incompatible with the layer: expected shape=(None, 512, 512, 3), found shape=(1, 256, 256, 3)"
     ]
    }
   ],
   "source": [
    "train(data_folder,gt_folder,dataset_path='/home/prashant/Desktop/denoising/Perceptual_Loss/dataset',checkpoint='checkpoints',epochs=5,pretrain_flag=False,pretrain_model_weight_path=None,model_name='M32',gray_flag=False,block_size=(512,512),train_batch_size=1)\n",
    "#model_name = name of the model (M16,M32,M64)\n",
    "#dataset_path==> path to the training dataset\n",
    "#checkpoint==> Path where saved models will be saved\n",
    "#pretrain_flag=True if you are initializing your model with some pre-trained weight\n",
    "#pretrain_model_weight_path==> path to the pretrained model weight (if pre-trained model flag is set to True)\n",
    "#gray_flag=True if you want final layer of the model to have only 1 channel\n",
    "#in case of color output, we need to set gray_flag=False (by default it is set as True)\n",
    "#block_size==> patch size per image/model input size, (by default=(256 X 256))\n",
    "#train_batch_size==> bath size during training\n",
    "\n",
    "# model_name = 'M16'\n",
    "# train(data_folder,gt_folder,dataset_path='dataset',checkpoint='checkpoints',epochs=1,gray_flag=True,model_name=model_name,pretrain_flag=True,pretrain_model_weight_path='checkpoints/M16_dibco13_epoch-958.hdf5')\n"
   ]
  },
  {
   "cell_type": "markdown",
   "metadata": {},
   "source": [
    "# Inference per image"
   ]
  },
  {
   "cell_type": "code",
   "execution_count": 1,
   "metadata": {},
   "outputs": [
    {
     "name": "stderr",
     "output_type": "stream",
     "text": [
      "2023-07-28 15:56:35.648196: I tensorflow/core/util/port.cc:110] oneDNN custom operations are on. You may see slightly different numerical results due to floating-point round-off errors from different computation orders. To turn them off, set the environment variable `TF_ENABLE_ONEDNN_OPTS=0`.\n",
      "2023-07-28 15:56:35.684440: I tensorflow/tsl/cuda/cudart_stub.cc:28] Could not find cuda drivers on your machine, GPU will not be used.\n",
      "2023-07-28 15:56:36.027476: I tensorflow/tsl/cuda/cudart_stub.cc:28] Could not find cuda drivers on your machine, GPU will not be used.\n",
      "2023-07-28 15:56:36.030678: I tensorflow/core/platform/cpu_feature_guard.cc:182] This TensorFlow binary is optimized to use available CPU instructions in performance-critical operations.\n",
      "To enable the following instructions: AVX2 AVX_VNNI FMA, in other operations, rebuild TensorFlow with the appropriate compiler flags.\n",
      "2023-07-28 15:56:37.615566: W tensorflow/compiler/tf2tensorrt/utils/py_utils.cc:38] TF-TRT Warning: Could not find TensorRT\n"
     ]
    }
   ],
   "source": [
    "from infer import infer_image"
   ]
  },
  {
   "cell_type": "code",
   "execution_count": 11,
   "metadata": {},
   "outputs": [
    {
     "name": "stdout",
     "output_type": "stream",
     "text": [
      "Model: \"IlluNet\"\n",
      "__________________________________________________________________________________________________\n",
      " Layer (type)                Output Shape                 Param #   Connected to                  \n",
      "==================================================================================================\n",
      " input_2 (InputLayer)        [(None, 256, 256, 3)]        0         []                            \n",
      "                                                                                                  \n",
      " conv2d (Conv2D)             (None, 256, 256, 16)         448       ['input_2[0][0]']             \n",
      "                                                                                                  \n",
      " batch_normalization (Batch  (None, 256, 256, 16)         64        ['conv2d[0][0]']              \n",
      " Normalization)                                                                                   \n",
      "                                                                                                  \n",
      " conv2d_1 (Conv2D)           (None, 256, 256, 32)         4640      ['batch_normalization[0][0]'] \n",
      "                                                                                                  \n",
      " batch_normalization_1 (Bat  (None, 256, 256, 32)         128       ['conv2d_1[0][0]']            \n",
      " chNormalization)                                                                                 \n",
      "                                                                                                  \n",
      " conv2d_2 (Conv2D)           (None, 256, 256, 32)         9248      ['batch_normalization_1[0][0]'\n",
      "                                                                    ]                             \n",
      "                                                                                                  \n",
      " batch_normalization_2 (Bat  (None, 256, 256, 32)         128       ['conv2d_2[0][0]']            \n",
      " chNormalization)                                                                                 \n",
      "                                                                                                  \n",
      " conv2d_3 (Conv2D)           (None, 256, 256, 32)         9248      ['batch_normalization_2[0][0]'\n",
      "                                                                    ]                             \n",
      "                                                                                                  \n",
      " batch_normalization_3 (Bat  (None, 256, 256, 32)         128       ['conv2d_3[0][0]']            \n",
      " chNormalization)                                                                                 \n",
      "                                                                                                  \n",
      " add (Add)                   (None, 256, 256, 32)         0         ['batch_normalization_3[0][0]'\n",
      "                                                                    , 'batch_normalization_1[0][0]\n",
      "                                                                    ']                            \n",
      "                                                                                                  \n",
      " activation (Activation)     (None, 256, 256, 32)         0         ['add[0][0]']                 \n",
      "                                                                                                  \n",
      " conv2d_4 (Conv2D)           (None, 256, 256, 32)         9248      ['activation[0][0]']          \n",
      "                                                                                                  \n",
      " batch_normalization_4 (Bat  (None, 256, 256, 32)         128       ['conv2d_4[0][0]']            \n",
      " chNormalization)                                                                                 \n",
      "                                                                                                  \n",
      " conv2d_5 (Conv2D)           (None, 256, 256, 32)         9248      ['batch_normalization_4[0][0]'\n",
      "                                                                    ]                             \n",
      "                                                                                                  \n",
      " batch_normalization_5 (Bat  (None, 256, 256, 32)         128       ['conv2d_5[0][0]']            \n",
      " chNormalization)                                                                                 \n",
      "                                                                                                  \n",
      " add_1 (Add)                 (None, 256, 256, 32)         0         ['batch_normalization_5[0][0]'\n",
      "                                                                    , 'activation[0][0]']         \n",
      "                                                                                                  \n",
      " activation_1 (Activation)   (None, 256, 256, 32)         0         ['add_1[0][0]']               \n",
      "                                                                                                  \n",
      " conv2d_6 (Conv2D)           (None, 256, 256, 32)         9248      ['activation_1[0][0]']        \n",
      "                                                                                                  \n",
      " batch_normalization_6 (Bat  (None, 256, 256, 32)         128       ['conv2d_6[0][0]']            \n",
      " chNormalization)                                                                                 \n",
      "                                                                                                  \n",
      " conv2d_7 (Conv2D)           (None, 256, 256, 32)         9248      ['batch_normalization_6[0][0]'\n",
      "                                                                    ]                             \n",
      "                                                                                                  \n",
      " batch_normalization_7 (Bat  (None, 256, 256, 32)         128       ['conv2d_7[0][0]']            \n",
      " chNormalization)                                                                                 \n",
      "                                                                                                  \n",
      " add_2 (Add)                 (None, 256, 256, 32)         0         ['batch_normalization_7[0][0]'\n",
      "                                                                    , 'activation_1[0][0]']       \n",
      "                                                                                                  \n",
      " activation_2 (Activation)   (None, 256, 256, 32)         0         ['add_2[0][0]']               \n",
      "                                                                                                  \n",
      " conv2d_8 (Conv2D)           (None, 256, 256, 32)         9248      ['activation_2[0][0]']        \n",
      "                                                                                                  \n",
      " batch_normalization_8 (Bat  (None, 256, 256, 32)         128       ['conv2d_8[0][0]']            \n",
      " chNormalization)                                                                                 \n",
      "                                                                                                  \n",
      " conv2d_9 (Conv2D)           (None, 256, 256, 32)         9248      ['batch_normalization_8[0][0]'\n",
      "                                                                    ]                             \n",
      "                                                                                                  \n",
      " batch_normalization_9 (Bat  (None, 256, 256, 32)         128       ['conv2d_9[0][0]']            \n",
      " chNormalization)                                                                                 \n",
      "                                                                                                  \n",
      " add_3 (Add)                 (None, 256, 256, 32)         0         ['batch_normalization_9[0][0]'\n",
      "                                                                    , 'activation_2[0][0]']       \n",
      "                                                                                                  \n",
      " activation_3 (Activation)   (None, 256, 256, 32)         0         ['add_3[0][0]']               \n",
      "                                                                                                  \n",
      " conv2d_10 (Conv2D)          (None, 256, 256, 32)         9248      ['activation_3[0][0]']        \n",
      "                                                                                                  \n",
      " batch_normalization_10 (Ba  (None, 256, 256, 32)         128       ['conv2d_10[0][0]']           \n",
      " tchNormalization)                                                                                \n",
      "                                                                                                  \n",
      " conv2d_11 (Conv2D)          (None, 256, 256, 32)         9248      ['batch_normalization_10[0][0]\n",
      "                                                                    ']                            \n",
      "                                                                                                  \n",
      " batch_normalization_11 (Ba  (None, 256, 256, 32)         128       ['conv2d_11[0][0]']           \n",
      " tchNormalization)                                                                                \n",
      "                                                                                                  \n",
      " add_4 (Add)                 (None, 256, 256, 32)         0         ['batch_normalization_11[0][0]\n",
      "                                                                    ',                            \n",
      "                                                                     'activation_3[0][0]']        \n",
      "                                                                                                  \n",
      " activation_4 (Activation)   (None, 256, 256, 32)         0         ['add_4[0][0]']               \n",
      "                                                                                                  \n",
      " add_5 (Add)                 (None, 256, 256, 32)         0         ['batch_normalization_1[0][0]'\n",
      "                                                                    , 'activation_4[0][0]']       \n",
      "                                                                                                  \n",
      " conv2d_12 (Conv2D)          (None, 256, 256, 32)         9248      ['add_5[0][0]']               \n",
      "                                                                                                  \n",
      " batch_normalization_12 (Ba  (None, 256, 256, 32)         128       ['conv2d_12[0][0]']           \n",
      " tchNormalization)                                                                                \n",
      "                                                                                                  \n",
      " conv2d_13 (Conv2D)          (None, 256, 256, 16)         4624      ['batch_normalization_12[0][0]\n",
      "                                                                    ']                            \n",
      "                                                                                                  \n",
      " batch_normalization_13 (Ba  (None, 256, 256, 16)         64        ['conv2d_13[0][0]']           \n",
      " tchNormalization)                                                                                \n",
      "                                                                                                  \n",
      " add_6 (Add)                 (None, 256, 256, 16)         0         ['batch_normalization[0][0]', \n",
      "                                                                     'batch_normalization_13[0][0]\n",
      "                                                                    ']                            \n",
      "                                                                                                  \n",
      " conv2d_14 (Conv2D)          (None, 256, 256, 3)          435       ['add_6[0][0]']               \n",
      "                                                                                                  \n",
      " batch_normalization_14 (Ba  (None, 256, 256, 3)          12        ['conv2d_14[0][0]']           \n",
      " tchNormalization)                                                                                \n",
      "                                                                                                  \n",
      " add_7 (Add)                 (None, 256, 256, 3)          0         ['input_2[0][0]',             \n",
      "                                                                     'batch_normalization_14[0][0]\n",
      "                                                                    ']                            \n",
      "                                                                                                  \n",
      " tf.math.sigmoid (TFOpLambd  (None, 256, 256, 3)          0         ['add_7[0][0]']               \n",
      " a)                                                                                               \n",
      "                                                                                                  \n",
      "==================================================================================================\n",
      "Total params: 113551 (443.56 KB)\n",
      "Trainable params: 112713 (440.29 KB)\n",
      "Non-trainable params: 838 (3.27 KB)\n",
      "__________________________________________________________________________________________________\n",
      "180/180 [==============================] - 46s 256ms/step\n"
     ]
    }
   ],
   "source": [
    "\n",
    "##########################################################################################\n",
    "#Input image\n",
    "test_img_name = 'dataset/BS_IN_Good_0.jpg'\n",
    "##########################################################################################\n",
    "#calling inference engine\n",
    "out_img_name = 'test_out1.jpeg'\n",
    "infer_image('checkpoints/M32_color.json','checkpoints/M32_color_sample_data_epoch-01.hdf5',test_img_name,out_img_name)\n"
   ]
  },
  {
   "cell_type": "code",
   "execution_count": 1,
   "metadata": {},
   "outputs": [
    {
     "ename": "NameError",
     "evalue": "name 'cv2' is not defined",
     "output_type": "error",
     "traceback": [
      "\u001b[0;31m---------------------------------------------------------------------------\u001b[0m",
      "\u001b[0;31mNameError\u001b[0m                                 Traceback (most recent call last)",
      "Cell \u001b[0;32mIn[1], line 4\u001b[0m\n\u001b[1;32m      1\u001b[0m \u001b[39m##########################################################################################\u001b[39;00m\n\u001b[1;32m      2\u001b[0m \u001b[39m#Dispaly input output image\u001b[39;00m\n\u001b[0;32m----> 4\u001b[0m in_img \u001b[39m=\u001b[39m cv2\u001b[39m.\u001b[39mimread(test_img_name,\u001b[39m1\u001b[39m)\n\u001b[1;32m      5\u001b[0m plt\u001b[39m.\u001b[39mimshow(in_img,cmap \u001b[39m=\u001b[39m \u001b[39m'\u001b[39m\u001b[39mgray\u001b[39m\u001b[39m'\u001b[39m)\n\u001b[1;32m      6\u001b[0m plt\u001b[39m.\u001b[39mtitle(\u001b[39m'\u001b[39m\u001b[39mInput\u001b[39m\u001b[39m'\u001b[39m)\n",
      "\u001b[0;31mNameError\u001b[0m: name 'cv2' is not defined"
     ]
    }
   ],
   "source": [
    "##########################################################################################\n",
    "#Dispaly input output image\n",
    "\n",
    "in_img = cv2.imread(test_img_name,1)\n",
    "plt.imshow(in_img,cmap = 'gray')\n",
    "plt.title('Input')\n",
    "plt.show()\n",
    "\n",
    "out_img = cv2.imread(out_img_name,1)\n",
    "plt.imshow(out_img,cmap = 'gray')\n",
    "plt.title('M16 output')\n",
    "plt.show()"
   ]
  },
  {
   "cell_type": "markdown",
   "metadata": {},
   "source": [
    "# inference per folder"
   ]
  },
  {
   "cell_type": "code",
   "execution_count": null,
   "metadata": {},
   "outputs": [],
   "source": [
    "from infer import infer"
   ]
  },
  {
   "cell_type": "code",
   "execution_count": null,
   "metadata": {},
   "outputs": [
    {
     "name": "stderr",
     "output_type": "stream",
     "text": [
      "\r\n",
      "  0%|          | 0/2 [00:00<?, ?it/s]"
     ]
    },
    {
     "name": "stdout",
     "output_type": "stream",
     "text": [
      "Model: \"M16Gray\"\n",
      "__________________________________________________________________________________________________\n",
      "Layer (type)                    Output Shape         Param #     Connected to                     \n",
      "==================================================================================================\n",
      "input_4 (InputLayer)            [(None, 256, 256, 3) 0                                            \n",
      "__________________________________________________________________________________________________\n",
      "conv2d_13 (Conv2D)              (None, 256, 256, 16) 448         input_4[0][0]                    \n",
      "__________________________________________________________________________________________________\n",
      "batch_normalization_13 (BatchNo (None, 256, 256, 16) 64          conv2d_13[0][0]                  \n",
      "__________________________________________________________________________________________________\n",
      "conv2d_14 (Conv2D)              (None, 256, 256, 16) 2320        batch_normalization_13[0][0]     \n",
      "__________________________________________________________________________________________________\n",
      "batch_normalization_14 (BatchNo (None, 256, 256, 16) 64          conv2d_14[0][0]                  \n",
      "__________________________________________________________________________________________________\n",
      "conv2d_15 (Conv2D)              (None, 256, 256, 16) 2320        batch_normalization_14[0][0]     \n",
      "__________________________________________________________________________________________________\n",
      "batch_normalization_15 (BatchNo (None, 256, 256, 16) 64          conv2d_15[0][0]                  \n",
      "__________________________________________________________________________________________________\n",
      "add_7 (Add)                     (None, 256, 256, 16) 0           batch_normalization_15[0][0]     \n",
      "                                                                 batch_normalization_13[0][0]     \n",
      "__________________________________________________________________________________________________\n",
      "activation_5 (Activation)       (None, 256, 256, 16) 0           add_7[0][0]                      \n",
      "__________________________________________________________________________________________________\n",
      "conv2d_16 (Conv2D)              (None, 256, 256, 16) 2320        activation_5[0][0]               \n",
      "__________________________________________________________________________________________________\n",
      "batch_normalization_16 (BatchNo (None, 256, 256, 16) 64          conv2d_16[0][0]                  \n",
      "__________________________________________________________________________________________________\n",
      "conv2d_17 (Conv2D)              (None, 256, 256, 16) 2320        batch_normalization_16[0][0]     \n",
      "__________________________________________________________________________________________________\n",
      "batch_normalization_17 (BatchNo (None, 256, 256, 16) 64          conv2d_17[0][0]                  \n",
      "__________________________________________________________________________________________________\n",
      "add_8 (Add)                     (None, 256, 256, 16) 0           batch_normalization_17[0][0]     \n",
      "                                                                 activation_5[0][0]               \n",
      "__________________________________________________________________________________________________\n",
      "activation_6 (Activation)       (None, 256, 256, 16) 0           add_8[0][0]                      \n",
      "__________________________________________________________________________________________________\n",
      "conv2d_18 (Conv2D)              (None, 256, 256, 16) 2320        activation_6[0][0]               \n",
      "__________________________________________________________________________________________________\n",
      "batch_normalization_18 (BatchNo (None, 256, 256, 16) 64          conv2d_18[0][0]                  \n",
      "__________________________________________________________________________________________________\n",
      "conv2d_19 (Conv2D)              (None, 256, 256, 16) 2320        batch_normalization_18[0][0]     \n",
      "__________________________________________________________________________________________________\n",
      "batch_normalization_19 (BatchNo (None, 256, 256, 16) 64          conv2d_19[0][0]                  \n",
      "__________________________________________________________________________________________________\n",
      "add_9 (Add)                     (None, 256, 256, 16) 0           batch_normalization_19[0][0]     \n",
      "                                                                 activation_6[0][0]               \n",
      "__________________________________________________________________________________________________\n",
      "activation_7 (Activation)       (None, 256, 256, 16) 0           add_9[0][0]                      \n",
      "__________________________________________________________________________________________________\n",
      "conv2d_20 (Conv2D)              (None, 256, 256, 16) 2320        activation_7[0][0]               \n",
      "__________________________________________________________________________________________________\n",
      "batch_normalization_20 (BatchNo (None, 256, 256, 16) 64          conv2d_20[0][0]                  \n",
      "__________________________________________________________________________________________________\n",
      "conv2d_21 (Conv2D)              (None, 256, 256, 16) 2320        batch_normalization_20[0][0]     \n",
      "__________________________________________________________________________________________________\n",
      "batch_normalization_21 (BatchNo (None, 256, 256, 16) 64          conv2d_21[0][0]                  \n",
      "__________________________________________________________________________________________________\n",
      "add_10 (Add)                    (None, 256, 256, 16) 0           batch_normalization_21[0][0]     \n",
      "                                                                 activation_7[0][0]               \n",
      "__________________________________________________________________________________________________\n",
      "activation_8 (Activation)       (None, 256, 256, 16) 0           add_10[0][0]                     \n",
      "__________________________________________________________________________________________________\n",
      "conv2d_22 (Conv2D)              (None, 256, 256, 16) 2320        activation_8[0][0]               \n",
      "__________________________________________________________________________________________________\n",
      "batch_normalization_22 (BatchNo (None, 256, 256, 16) 64          conv2d_22[0][0]                  \n",
      "__________________________________________________________________________________________________\n",
      "conv2d_23 (Conv2D)              (None, 256, 256, 16) 2320        batch_normalization_22[0][0]     \n",
      "__________________________________________________________________________________________________\n",
      "batch_normalization_23 (BatchNo (None, 256, 256, 16) 64          conv2d_23[0][0]                  \n",
      "__________________________________________________________________________________________________\n",
      "add_11 (Add)                    (None, 256, 256, 16) 0           batch_normalization_23[0][0]     \n",
      "                                                                 activation_8[0][0]               \n",
      "__________________________________________________________________________________________________\n",
      "activation_9 (Activation)       (None, 256, 256, 16) 0           add_11[0][0]                     \n",
      "__________________________________________________________________________________________________\n",
      "add_12 (Add)                    (None, 256, 256, 16) 0           batch_normalization_13[0][0]     \n",
      "                                                                 activation_9[0][0]               \n",
      "__________________________________________________________________________________________________\n",
      "conv2d_24 (Conv2D)              (None, 256, 256, 16) 2320        add_12[0][0]                     \n",
      "__________________________________________________________________________________________________\n",
      "batch_normalization_24 (BatchNo (None, 256, 256, 16) 64          conv2d_24[0][0]                  \n",
      "__________________________________________________________________________________________________\n",
      "conv2d_25 (Conv2D)              (None, 256, 256, 1)  145         batch_normalization_24[0][0]     \n",
      "__________________________________________________________________________________________________\n",
      "lambda (Lambda)                 (None, 256, 256, 1)  0           input_4[0][0]                    \n",
      "__________________________________________________________________________________________________\n",
      "batch_normalization_25 (BatchNo (None, 256, 256, 1)  4           conv2d_25[0][0]                  \n",
      "__________________________________________________________________________________________________\n",
      "add_13 (Add)                    (None, 256, 256, 1)  0           lambda[0][0]                     \n",
      "                                                                 batch_normalization_25[0][0]     \n",
      "__________________________________________________________________________________________________\n",
      "tf_op_layer_Sigmoid_1 (TensorFl (None, 256, 256, 1)  0           add_13[0][0]                     \n",
      "==================================================================================================\n",
      "Total params: 26,885\n",
      "Trainable params: 26,499\n",
      "Non-trainable params: 386\n",
      "__________________________________________________________________________________________________\n",
      "dataset/sample_data\n"
     ]
    },
    {
     "name": "stderr",
     "output_type": "stream",
     "text": [
      "100%|██████████| 2/2 [00:31<00:00, 15.73s/it]\n"
     ]
    }
   ],
   "source": [
    "input_dir = 'dataset/sample_data'\n",
    "out_dir = 'sample_out_data'\n",
    "infer('checkpoints/M16_gray.json','checkpoints/M16_gray_sample_data_epoch-01.hdf5',input_dir,out_dir)"
   ]
  },
  {
   "cell_type": "code",
   "execution_count": 15,
   "metadata": {},
   "outputs": [
    {
     "name": "stdout",
     "output_type": "stream",
     "text": [
      "{'Q': [1, 2, 3, 4, 5]}\n"
     ]
    }
   ],
   "source": [
    "A={}\n",
    "B=[1,2,3,4,5]\n",
    "A[\"Q\"]=B\n",
    "print(A)"
   ]
  }
 ],
 "metadata": {
  "kernelspec": {
   "display_name": "Python 3",
   "language": "python",
   "name": "python3"
  },
  "language_info": {
   "codemirror_mode": {
    "name": "ipython",
    "version": 3
   },
   "file_extension": ".py",
   "mimetype": "text/x-python",
   "name": "python",
   "nbconvert_exporter": "python",
   "pygments_lexer": "ipython3",
   "version": "3.10.9"
  }
 },
 "nbformat": 4,
 "nbformat_minor": 2
}
